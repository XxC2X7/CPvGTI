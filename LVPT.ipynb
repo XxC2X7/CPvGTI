{
 "cells": [
  {
   "cell_type": "code",
   "execution_count": null,
   "id": "336ae0a1",
   "metadata": {},
   "outputs": [],
   "source": []
  },
  {
   "cell_type": "code",
   "execution_count": 1,
   "id": "691bc49c",
   "metadata": {},
   "outputs": [],
   "source": [
    "import numpy as np\n",
    "from pandas import isna\n",
    "from scipy.sparse import issparse, linalg, spdiags\n",
    "import anndata\n",
    "\n",
    "import scvelo as scv\n",
    "import scanpy as sc\n",
    "from velocity_graph import velocity_graph\n",
    "import lvpt\n",
    "\n",
    "from scvelo import logging as logg\n",
    "from scvelo.preprocessing.moments import get_connectivities\n",
    "from scvelo.tools.terminal_states import terminal_states\n",
    "from scvelo.utils import groups_to_bool, scale, strings_to_categoricals"
   ]
  },
  {
   "cell_type": "code",
   "execution_count": 2,
   "id": "883ca6e0",
   "metadata": {},
   "outputs": [],
   "source": [
    "adata = anndata.read_h5ad(\"D:/L/data/example_data/simulated/linear.h5ad\")\n",
    "\n",
    "if 'counts_spliced' in adata.layers:\n",
    "    adata.layers['spliced'] = adata.layers.pop('counts_spliced')\n",
    "if 'counts_unspliced' in adata.layers:\n",
    "    adata.layers['unspliced'] = adata.layers.pop('counts_unspliced')\n",
    "    \n",
    "sc.pp.normalize_total(adata, target_sum=1e4)\n",
    "sc.pp.log1p(adata)\n",
    "sc.tl.pca(adata, svd_solver='arpack')\n",
    "\n",
    "sc.pp.neighbors(adata)\n",
    "sc.tl.umap(adata)"
   ]
  },
  {
   "cell_type": "code",
   "execution_count": null,
   "id": "02518f75",
   "metadata": {},
   "outputs": [],
   "source": [
    "adata = anndata.read_h5ad(\"D:/L/data/example_data/simulated/Dyngen/Bifurcating.h5ad\")\n",
    "sc.pp.neighbors(adata, n_neighbors = 13,n_pcs = 20)"
   ]
  },
  {
   "cell_type": "code",
   "execution_count": null,
   "id": "9bb1243f",
   "metadata": {},
   "outputs": [],
   "source": [
    "adata = anndata.read_h5ad(\"D:/L/data/example_data/simulated/Dyngen/Trifurcating.h5ad\")\n",
    "sc.pp.neighbors(adata, n_neighbors = 13,n_pcs = 20)"
   ]
  },
  {
   "cell_type": "code",
   "execution_count": null,
   "id": "2933b024",
   "metadata": {},
   "outputs": [],
   "source": [
    "adata = anndata.read_h5ad(\"D:/L/data/example_data/simulated/trifurcating.h5ad\")\n",
    "\n",
    "if 'counts_spliced' in adata.layers: \n",
    "    adata.layers['spliced'] = adata.layers.pop('counts_spliced') \n",
    "if 'counts_unspliced' in adata.layers: \n",
    "    adata.layers['unspliced'] = adata.layers.pop('counts_unspliced')\n",
    "\n",
    "sc.tl.pca(adata, svd_solver='arpack')\n",
    "sc.pp.neighbors(adata, n_neighbors =30,n_pcs = 20)\n",
    "sc.tl.umap(adata) "
   ]
  },
  {
   "cell_type": "code",
   "execution_count": 2,
   "id": "a53a8be8",
   "metadata": {},
   "outputs": [],
   "source": [
    "adata = anndata.read_h5ad(\"C:/Users/user/Desktop/TRY/CellPath-master/example_data/simulated/cycletree.h5ad\")"
   ]
  },
  {
   "cell_type": "code",
   "execution_count": null,
   "id": "c4cba387",
   "metadata": {},
   "outputs": [],
   "source": []
  },
  {
   "cell_type": "code",
   "execution_count": 3,
   "id": "2945b2c0",
   "metadata": {},
   "outputs": [
    {
     "name": "stdout",
     "output_type": "stream",
     "text": [
      "WARNING: Did not normalize X as it looks processed already. To enforce normalization, set `enforce=True`.\n",
      "Normalized count data: spliced, unspliced.\n",
      "computing neighbors\n",
      "    finished (0:00:00) --> added \n",
      "    'distances' and 'connectivities', weighted adjacency matrices (adata.obsp)\n",
      "computing moments based on connectivities\n",
      "    finished (0:00:00) --> added \n",
      "    'Ms' and 'Mu', moments of un/spliced abundances (adata.layers)\n",
      "computing velocities\n",
      "    finished (0:00:00) --> added \n",
      "    'velocity', velocity vectors for each individual cell (adata.layers)\n",
      "computing velocity graph (using 1/4 cores)\n"
     ]
    },
    {
     "data": {
      "application/vnd.jupyter.widget-view+json": {
       "model_id": "911fd3ad5e8645419d62733fe377169f",
       "version_major": 2,
       "version_minor": 0
      },
      "text/plain": [
       "  0%|          | 0/1000 [00:00<?, ?cells/s]"
      ]
     },
     "metadata": {},
     "output_type": "display_data"
    },
    {
     "name": "stdout",
     "output_type": "stream",
     "text": [
      "    finished (0:00:02) --> added \n",
      "    'velocity_graph', sparse matrix with cosine correlations (adata.uns)\n",
      "computing terminal states\n",
      "    identified 2 regions of root cells and 3 regions of end points .\n",
      "    finished (0:00:00) --> added\n",
      "    'root_cells', root cells of Markov diffusion process (adata.obs)\n",
      "    'end_points', end points of Markov diffusion process (adata.obs)\n"
     ]
    }
   ],
   "source": [
    "scv.tl.velocity(adata)\n",
    "velocity_graph(adata, steady=0.06, approx=True)\n",
    "lvpt.velocity_pseudotime(adata)"
   ]
  },
  {
   "cell_type": "code",
   "execution_count": 4,
   "id": "67e5fc5e",
   "metadata": {},
   "outputs": [
    {
     "name": "stderr",
     "output_type": "stream",
     "text": [
      "C:\\jupter\\lib\\site-packages\\ipykernel\\ipkernel.py:287: DeprecationWarning: `should_run_async` will not call `transform_cell` automatically in the future. Please pass the result to `transformed_cell` argument and any exception that happen during thetransform in `preprocessing_exc_tuple` in IPython 7.17 and above.\n",
      "  and should_run_async(code)\n"
     ]
    }
   ],
   "source": [
    "def kendalltau(pt_pred, pt_true):\n",
    "    \"\"\"\\\n",
    "    Description\n",
    "        kendall tau correlationship\n",
    "    \n",
    "    Parameters\n",
    "    ----------\n",
    "    pt_pred\n",
    "        inferred pseudo-time\n",
    "    pt_true\n",
    "        ground truth pseudo-time\n",
    "    Returns\n",
    "    -------\n",
    "    tau\n",
    "        returned score\n",
    "    \"\"\"\n",
    "    from scipy.stats import kendalltau\n",
    "    pt_true = pt_true.squeeze()\n",
    "    pt_pred = pt_pred.squeeze()\n",
    "    tau, p_val = kendalltau(pt_pred, pt_true)\n",
    "    return tau\n",
    "\n",
    "from scipy.stats import spearmanr\n",
    "import numpy as np\n",
    "\n",
    "def spearmanr_corr(pt_pred, pt_true):\n",
    "    \"\"\"\\\n",
    "    Description\n",
    "        Spearman's rank correlation coefficient\n",
    "    \n",
    "    Parameters\n",
    "    ----------\n",
    "    pt_pred\n",
    "        inferred pseudo-time\n",
    "    pt_true\n",
    "        ground truth pseudo-time\n",
    "    Returns\n",
    "    -------\n",
    "    rho\n",
    "        Spearman correlation coefficient\n",
    "    \"\"\"\n",
    "    pt_true = pt_true.squeeze()\n",
    "    pt_pred = pt_pred.squeeze()\n",
    "    rho, p_val = spearmanr(pt_pred, pt_true)\n",
    "    return rho"
   ]
  },
  {
   "cell_type": "code",
   "execution_count": 8,
   "id": "459165f3",
   "metadata": {},
   "outputs": [
    {
     "data": {
      "text/plain": [
       "0.6587224692439201"
      ]
     },
     "execution_count": 8,
     "metadata": {},
     "output_type": "execute_result"
    }
   ],
   "source": [
    "kt = kendalltau(adata._obs.velocity_pseudotime,adata._obs.sim_time)\n",
    "kt"
   ]
  },
  {
   "cell_type": "code",
   "execution_count": 9,
   "id": "efd06332",
   "metadata": {},
   "outputs": [
    {
     "data": {
      "text/plain": [
       "0.6296857322271471"
      ]
     },
     "execution_count": 9,
     "metadata": {},
     "output_type": "execute_result"
    }
   ],
   "source": [
    "sm = spearmanr_corr(adata._obs.velocity_pseudotime,adata._obs.sim_time)\n",
    "sm"
   ]
  },
  {
   "cell_type": "code",
   "execution_count": null,
   "id": "6afa62e3",
   "metadata": {},
   "outputs": [],
   "source": []
  }
 ],
 "metadata": {
  "kernelspec": {
   "display_name": "python3.6",
   "language": "python",
   "name": "python3.6"
  },
  "language_info": {
   "codemirror_mode": {
    "name": "ipython",
    "version": 3
   },
   "file_extension": ".py",
   "mimetype": "text/x-python",
   "name": "python",
   "nbconvert_exporter": "python",
   "pygments_lexer": "ipython3",
   "version": "3.8.8"
  }
 },
 "nbformat": 4,
 "nbformat_minor": 5
}
