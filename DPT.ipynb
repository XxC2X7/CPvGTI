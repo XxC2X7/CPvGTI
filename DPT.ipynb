{
 "cells": [
  {
   "cell_type": "code",
   "execution_count": null,
   "id": "aa6331be",
   "metadata": {},
   "outputs": [],
   "source": [
    "##需要人工定义起点细胞（有监督）"
   ]
  },
  {
   "cell_type": "code",
   "execution_count": 1,
   "id": "803cba17",
   "metadata": {},
   "outputs": [],
   "source": [
    "import numpy as np  \n",
    "import pandas as pd\n",
    "import scvelo as scv\n",
    "import anndata \n",
    "import scanpy as sc"
   ]
  },
  {
   "cell_type": "code",
   "execution_count": null,
   "id": "b9f61e0c",
   "metadata": {},
   "outputs": [],
   "source": [
    "adata = anndata.read_h5ad(\"D:/L/data/example_data/simulated/linear.h5ad\")\n",
    "\n",
    "if 'counts_spliced' in adata.layers:\n",
    "    adata.layers['spliced'] = adata.layers.pop('counts_spliced')\n",
    "if 'counts_unspliced' in adata.layers:\n",
    "    adata.layers['unspliced'] = adata.layers.pop('counts_unspliced')\n",
    "    \n",
    "sc.pp.normalize_total(adata, target_sum=1e4)\n",
    "sc.pp.log1p(adata)\n",
    "sc.tl.pca(adata, svd_solver='arpack')\n",
    "\n",
    "sc.pp.neighbors(adata)\n",
    "sc.tl.umap(adata)"
   ]
  },
  {
   "cell_type": "code",
   "execution_count": 2,
   "id": "6cc3c113",
   "metadata": {},
   "outputs": [],
   "source": [
    "adata = anndata.read_h5ad(\"D:/L/data/example_data/simulated/Dyngen/Bifurcating.h5ad\")"
   ]
  },
  {
   "cell_type": "code",
   "execution_count": 6,
   "id": "9202d476",
   "metadata": {},
   "outputs": [],
   "source": [
    "adata = anndata.read_h5ad(\"D:/L/data/example_data/simulated/Dyngen/Trifurcating.h5ad\")"
   ]
  },
  {
   "cell_type": "code",
   "execution_count": 19,
   "id": "2231f537",
   "metadata": {},
   "outputs": [],
   "source": [
    "adata = anndata.read_h5ad(\"D:/L/data/example_data/simulated/trifurcating.h5ad\")\n",
    "\n",
    "if 'counts_spliced' in adata.layers: \n",
    "    adata.layers['spliced'] = adata.layers.pop('counts_spliced') \n",
    "if 'counts_unspliced' in adata.layers: \n",
    "    adata.layers['unspliced'] = adata.layers.pop('counts_unspliced')\n",
    "\n",
    "sc.pp.normalize_total(adata, target_sum=1e4) \n",
    "sc.pp.log1p(adata) \n",
    "sc.tl.pca(adata, svd_solver='arpack')\n",
    "sc.pp.neighbors(adata) \n",
    "sc.tl.umap(adata) "
   ]
  },
  {
   "cell_type": "code",
   "execution_count": 52,
   "id": "3bb2bb1c",
   "metadata": {},
   "outputs": [],
   "source": [
    "adata = anndata.read_h5ad(\"C:/Users/user/Desktop/TRY/CellPath-master/example_data/simulated/cycletree.h5ad\")"
   ]
  },
  {
   "cell_type": "code",
   "execution_count": null,
   "id": "d4d697cb",
   "metadata": {},
   "outputs": [],
   "source": []
  },
  {
   "cell_type": "code",
   "execution_count": 3,
   "id": "84a963be",
   "metadata": {},
   "outputs": [
    {
     "data": {
      "text/plain": [
       "cell_0        53.008333\n",
       "cell_1       133.000000\n",
       "cell_3        51.008333\n",
       "cell_4       191.008333\n",
       "cell_5       122.000000\n",
       "                ...    \n",
       "cell_1995    137.000000\n",
       "cell_1996     66.008333\n",
       "cell_1997    135.000000\n",
       "cell_1998    180.000000\n",
       "cell_1999    132.000000\n",
       "Name: sim_time, Length: 1587, dtype: float64"
      ]
     },
     "execution_count": 3,
     "metadata": {},
     "output_type": "execute_result"
    }
   ],
   "source": [
    "adata.obs['sim_time']"
   ]
  },
  {
   "cell_type": "code",
   "execution_count": 4,
   "id": "56be6a9d",
   "metadata": {},
   "outputs": [
    {
     "data": {
      "text/plain": [
       "'cell_30'"
      ]
     },
     "execution_count": 4,
     "metadata": {},
     "output_type": "execute_result"
    }
   ],
   "source": [
    "adata.obs['sim_time'].idxmin()"
   ]
  },
  {
   "cell_type": "code",
   "execution_count": 5,
   "id": "98377ef0",
   "metadata": {},
   "outputs": [],
   "source": [
    "adata.uns['iroot'] = 30"
   ]
  },
  {
   "cell_type": "code",
   "execution_count": 6,
   "id": "a8bcc049",
   "metadata": {},
   "outputs": [],
   "source": [
    "sc.tl.diffmap(adata)\n",
    "dpt_pseudotime = sc.tl.dpt(adata)"
   ]
  },
  {
   "cell_type": "code",
   "execution_count": 7,
   "id": "41ee3d04",
   "metadata": {},
   "outputs": [],
   "source": [
    "def kendalltau(pt_pred, pt_true):\n",
    "    \"\"\"\\\n",
    "    Description\n",
    "        kendall tau correlationship\n",
    "    \n",
    "    Parameters\n",
    "    ----------\n",
    "    pt_pred\n",
    "        inferred pseudo-time\n",
    "    pt_true\n",
    "        ground truth pseudo-time\n",
    "    Returns\n",
    "    -------\n",
    "    tau\n",
    "        returned score\n",
    "    \"\"\"\n",
    "    from scipy.stats import kendalltau\n",
    "    pt_true = pt_true.squeeze()\n",
    "    pt_pred = pt_pred.squeeze()\n",
    "    tau, p_val = kendalltau(pt_pred, pt_true)\n",
    "    return tau\n",
    "\n",
    "from scipy.stats import spearmanr\n",
    "import numpy as np\n",
    "\n",
    "def spearmanr_corr(pt_pred, pt_true):\n",
    "    \"\"\"\\\n",
    "    Description\n",
    "        Spearman's rank correlation coefficient\n",
    "    \n",
    "    Parameters\n",
    "    ----------\n",
    "    pt_pred\n",
    "        inferred pseudo-time\n",
    "    pt_true\n",
    "        ground truth pseudo-time\n",
    "    Returns\n",
    "    -------\n",
    "    rho\n",
    "        Spearman correlation coefficient\n",
    "    \"\"\"\n",
    "    pt_true = pt_true.squeeze()\n",
    "    pt_pred = pt_pred.squeeze()\n",
    "    rho, p_val = spearmanr(pt_pred, pt_true)\n",
    "    return rho"
   ]
  },
  {
   "cell_type": "code",
   "execution_count": 8,
   "id": "f08733d3",
   "metadata": {},
   "outputs": [
    {
     "data": {
      "text/plain": [
       "0.15074152245792657"
      ]
     },
     "execution_count": 8,
     "metadata": {},
     "output_type": "execute_result"
    }
   ],
   "source": [
    "kt = kendalltau(adata._obs.dpt_pseudotime,adata._obs.sim_time)\n",
    "kt"
   ]
  },
  {
   "cell_type": "code",
   "execution_count": 9,
   "id": "c366410d",
   "metadata": {},
   "outputs": [
    {
     "data": {
      "text/plain": [
       "0.3670367835294725"
      ]
     },
     "execution_count": 9,
     "metadata": {},
     "output_type": "execute_result"
    }
   ],
   "source": [
    "sm = spearmanr_corr(adata._obs.dpt_pseudotime,adata._obs.sim_time)\n",
    "sm"
   ]
  },
  {
   "cell_type": "code",
   "execution_count": null,
   "id": "04d4b6f0",
   "metadata": {},
   "outputs": [],
   "source": []
  }
 ],
 "metadata": {
  "kernelspec": {
   "display_name": "python3.6",
   "language": "python",
   "name": "python3.6"
  },
  "language_info": {
   "codemirror_mode": {
    "name": "ipython",
    "version": 3
   },
   "file_extension": ".py",
   "mimetype": "text/x-python",
   "name": "python",
   "nbconvert_exporter": "python",
   "pygments_lexer": "ipython3",
   "version": "3.8.8"
  }
 },
 "nbformat": 4,
 "nbformat_minor": 5
}
